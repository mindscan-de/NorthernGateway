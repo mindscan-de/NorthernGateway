{
 "cells": [
  {
   "cell_type": "markdown",
   "metadata": {},
   "source": [
    "# Testing the universal sentence encoder - multilingual large / 3"
   ]
  },
  {
   "cell_type": "markdown",
   "metadata": {},
   "source": [
    "The idea is to use the https://tfhub.dev/google/universal-sentence-encoder-multilingual/3 model to implement the following:\n",
    "\n",
    "* Give the user a sentence in a language he understands\n",
    "* Let the student of the japanese lenguage input a sentence and use the universal sentence encoder to measure the similarity between the native encoding and the typed in encoding\n",
    "* if good enough student earns points for writing that translation/sentence.\n",
    "* since language learning is always about being good enough\n",
    "* research:\n",
    "  * if not, we would analyze the encoding vector, and maybe analyze the difference of the feature vector, like, pasttense and other stuff.\n",
    "  * these vectors might be calculated by the native languages and then stored into a small database and therefore help the student to catch mistakes he made while translating\n",
    "* also give the student text so that he can translate that sentence into his native laguage\n",
    "* other language programs always want an exact translation and it is about memorizing instead of approximatnig the aquisition of a language"
   ]
  },
  {
   "cell_type": "markdown",
   "metadata": {},
   "source": [
    "## Fails\n",
    "\n",
    "* This model currently fails for me, because tensorflow_text is not available as a windows-download. And is not compiled for windows, the developers just make some unseless excuses for not supporting the windows eco-system. If someone should have working build-systems it should be google/tensorflow.\n",
    "* They say it will be available with Tensorflow 2.4 but they don't know when Tensorflow 2.4 will be released.\n",
    "* They know about this problem since about July 2019 and in Aug 2020 it is still not released under windows. So sad."
   ]
  },
  {
   "cell_type": "code",
   "execution_count": null,
   "metadata": {},
   "outputs": [],
   "source": [
    "import tensorflow_hub as hub\n",
    "import numpy as np\n",
    "import tensorflow_text"
   ]
  },
  {
   "cell_type": "code",
   "execution_count": null,
   "metadata": {},
   "outputs": [],
   "source": [
    "english_sentences = [\"dog\", \"Puppies are nice.\", \"I enjoy taking long walks along the beach with my dog.\"]\n",
    "japanese_sentences = [\"犬\", \"子犬はいいです\", \"私は犬と一緒にビーチを散歩するのが好きです\"]\n"
   ]
  },
  {
   "cell_type": "code",
   "execution_count": null,
   "metadata": {},
   "outputs": [],
   "source": [
    "embed = hub.load(\"https://tfhub.dev/google/universal-sentence-encoder-multilingual-large/3\")"
   ]
  },
  {
   "cell_type": "code",
   "execution_count": null,
   "metadata": {},
   "outputs": [],
   "source": []
  },
  {
   "cell_type": "code",
   "execution_count": null,
   "metadata": {},
   "outputs": [],
   "source": [
    "en_result = embed(english_sentences)\n",
    "ja_result = embed(japanese_sentences)\n"
   ]
  },
  {
   "cell_type": "code",
   "execution_count": null,
   "metadata": {},
   "outputs": [],
   "source": [
    "similarity_matrix_ja = np.inner(en_result, ja_result)"
   ]
  },
  {
   "cell_type": "code",
   "execution_count": null,
   "metadata": {},
   "outputs": [],
   "source": []
  },
  {
   "cell_type": "code",
   "execution_count": null,
   "metadata": {},
   "outputs": [],
   "source": []
  },
  {
   "cell_type": "code",
   "execution_count": null,
   "metadata": {},
   "outputs": [],
   "source": []
  },
  {
   "cell_type": "code",
   "execution_count": null,
   "metadata": {},
   "outputs": [],
   "source": []
  },
  {
   "cell_type": "code",
   "execution_count": null,
   "metadata": {},
   "outputs": [],
   "source": []
  }
 ],
 "metadata": {
  "kernelspec": {
   "display_name": "Python 3",
   "language": "python",
   "name": "python3"
  },
  "language_info": {
   "codemirror_mode": {
    "name": "ipython",
    "version": 3
   },
   "file_extension": ".py",
   "mimetype": "text/x-python",
   "name": "python",
   "nbconvert_exporter": "python",
   "pygments_lexer": "ipython3",
   "version": "3.6.4"
  },
  "toc": {
   "base_numbering": 1,
   "nav_menu": {},
   "number_sections": true,
   "sideBar": true,
   "skip_h1_title": false,
   "title_cell": "Table of Contents",
   "title_sidebar": "Contents",
   "toc_cell": false,
   "toc_position": {},
   "toc_section_display": true,
   "toc_window_display": false
  }
 },
 "nbformat": 4,
 "nbformat_minor": 2
}
